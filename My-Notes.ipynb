{
 "cells": [
  {
   "cell_type": "code",
   "execution_count": null,
   "metadata": {},
   "outputs": [],
   "source": [
    "# how to check all installed packages in python\n",
    "# cannot import name 'metadata' from 'importlib'\n",
    "# pip install importlib-metadata (done) no use\n",
    "# pip install jsonschema==3.0.2 (done) no use\n",
    "# Running on pre-3.8 Python; use importlib-metadata package (works)\n",
    "import sys\n",
    "try:\n",
    "    from importlib import metadata\n",
    "except ImportError:\n",
    "    # Running on pre-3.8 Python; use importlib-metadata package\n",
    "    import importlib_metadata as metadata  # type: ignore\n",
    "dists = metadata.distributions()\n",
    "for dist in dists:\n",
    "    name = dist.metadata[\"Name\"]\n",
    "    version = dist.version\n",
    "    license = dist.metadata[\"License\"]\n",
    "    print(f'found distribution {name}=={version}')"
   ]
  },
  {
   "cell_type": "code",
   "execution_count": 6,
   "metadata": {},
   "outputs": [],
   "source": [
    "import win32gui"
   ]
  }
 ],
 "metadata": {
  "interpreter": {
   "hash": "4937dbcf709e339dc47ade47d8a2e3765b42f52223ba73d6482a12dbae937e34"
  },
  "kernelspec": {
   "display_name": "Python 3.7.6 64-bit ('base': conda)",
   "name": "python3"
  },
  "language_info": {
   "codemirror_mode": {
    "name": "ipython",
    "version": 3
   },
   "file_extension": ".py",
   "mimetype": "text/x-python",
   "name": "python",
   "nbconvert_exporter": "python",
   "pygments_lexer": "ipython3",
   "version": "3.7.6"
  },
  "orig_nbformat": 4
 },
 "nbformat": 4,
 "nbformat_minor": 2
}
